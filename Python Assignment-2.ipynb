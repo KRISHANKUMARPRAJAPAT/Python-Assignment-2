{
 "cells": [
  {
   "cell_type": "markdown",
   "id": "6d18436d-9d5d-42fd-9f49-7339c7d6fc71",
   "metadata": {},
   "source": [
    "# Q1. Create a python program to sort the given list of tuples based on integer value using a lambda function. [('Sachin Tendulkar', 34357), ('Ricky Ponting', 27483), ('Jack Kallis', 25534), ('Virat Kohli', 24936)]"
   ]
  },
  {
   "cell_type": "markdown",
   "id": "a2acf29f-edbf-4d49-8f7e-ba3061eb9de0",
   "metadata": {},
   "source": [
    "# Ans: 1"
   ]
  },
  {
   "cell_type": "code",
   "execution_count": 3,
   "id": "a3fc2c84-c7c2-401d-97d8-64331496e865",
   "metadata": {},
   "outputs": [
    {
     "name": "stdout",
     "output_type": "stream",
     "text": [
      "[('Virat Kohli', 24936), ('Jack Kallis', 25534), ('Ricky Ponting', 27483), ('Sachin Tendulkar', 34357)]\n"
     ]
    }
   ],
   "source": [
    "l= [('Sachin Tendulkar', 34357), ('Ricky Ponting', 27483), ('Jack Kallis', 25534), ('Virat Kohli', 24936)]\n",
    "\n",
    "l.sort(key=lambda x: x[1])\n",
    "print(l)"
   ]
  },
  {
   "cell_type": "code",
   "execution_count": null,
   "id": "59328e2b-79c8-455c-b7df-16dc35f667b3",
   "metadata": {},
   "outputs": [],
   "source": []
  },
  {
   "cell_type": "markdown",
   "id": "0acb7204-c2c8-481c-aeea-4fe8c41db4d5",
   "metadata": {},
   "source": [
    "# Q2. Write a Python Program to find the squares of all the numbers in the given list of integers using lambda and map functions.[1, 2, 3, 4, 5, 6, 7, 8, 9, 10]"
   ]
  },
  {
   "cell_type": "markdown",
   "id": "96824452-75b6-4435-bf2d-25c81ac22df0",
   "metadata": {},
   "source": [
    "# Ans: 2"
   ]
  },
  {
   "cell_type": "code",
   "execution_count": 4,
   "id": "588eb9e4-2677-42b4-87da-a136cd2cf703",
   "metadata": {},
   "outputs": [
    {
     "data": {
      "text/plain": [
       "[1, 4, 9, 16, 25, 36, 49, 64, 81, 100]"
      ]
     },
     "execution_count": 4,
     "metadata": {},
     "output_type": "execute_result"
    }
   ],
   "source": [
    "l = [1, 2, 3, 4, 5, 6, 7, 8, 9, 10]\n",
    "list(map(lambda i : i**2 , l))"
   ]
  },
  {
   "cell_type": "code",
   "execution_count": null,
   "id": "390f8132-4b3b-4b61-a690-998e63479abe",
   "metadata": {},
   "outputs": [],
   "source": []
  },
  {
   "cell_type": "markdown",
   "id": "1904c78c-d578-454c-aa33-d3059a40fc2b",
   "metadata": {},
   "source": [
    "# Q3. Write a python program to convert the given list of integers into a tuple of strings. Use map and lambda functions Given String: [1, 2, 3, 4, 5, 6, 7, 8, 9, 10] Expected output: ('1', '2', '3', '4', '5', '6', '7', '8', '9', '10')"
   ]
  },
  {
   "cell_type": "markdown",
   "id": "dcbeaa74-8c8d-4e38-8d29-7dccb668247c",
   "metadata": {},
   "source": [
    "# Ans: 3"
   ]
  },
  {
   "cell_type": "code",
   "execution_count": 6,
   "id": "b966c2c7-f6ad-47eb-a585-663814ca1a53",
   "metadata": {},
   "outputs": [
    {
     "name": "stdout",
     "output_type": "stream",
     "text": [
      "('1', '2', '3', '4', '5', '6', '7', '8', '9', '10')\n"
     ]
    }
   ],
   "source": [
    "l1 = [1, 2, 3, 4, 5, 6, 7, 8, 9, 10]\n",
    "tuple_of_string = tuple(map(lambda i : str(i), l1))\n",
    "print(tuple_of_string)"
   ]
  },
  {
   "cell_type": "code",
   "execution_count": null,
   "id": "fdf61d79-795d-4bb1-9479-3a9a0307742e",
   "metadata": {},
   "outputs": [],
   "source": []
  },
  {
   "cell_type": "markdown",
   "id": "f72bc0da-e800-4396-a1b5-6993043982ce",
   "metadata": {},
   "source": [
    "# Q4. Write a python program using reduce function to compute the product of a list containing numbers from 1 to 25."
   ]
  },
  {
   "cell_type": "markdown",
   "id": "777006a9-d8bf-4eda-ac1b-10158fc33eef",
   "metadata": {},
   "source": [
    "# Ans: 4"
   ]
  },
  {
   "cell_type": "code",
   "execution_count": 9,
   "id": "0ef58b4f-7711-4488-a8a3-057e8fcf2fd5",
   "metadata": {},
   "outputs": [
    {
     "name": "stdout",
     "output_type": "stream",
     "text": [
      "15511210043330985984000000\n"
     ]
    }
   ],
   "source": [
    "from functools import reduce\n",
    "l3 = list(range(1,26))\n",
    "product = reduce(lambda x,y: x*y, l3)\n",
    "print(product)"
   ]
  },
  {
   "cell_type": "code",
   "execution_count": null,
   "id": "878390cb-ecdd-4142-a8ab-0b29d5fed244",
   "metadata": {},
   "outputs": [],
   "source": []
  },
  {
   "cell_type": "markdown",
   "id": "06986bbf-781b-4a2c-b5d5-8f9fe9adc39a",
   "metadata": {},
   "source": [
    "# Q5. Write a python program to filter the numbers in a given list that are divisible by 2 and 3 using the filter function. [2, 3, 6, 9, 27, 60, 90, 120, 55, 46]"
   ]
  },
  {
   "cell_type": "markdown",
   "id": "ac52060a-263a-41e8-bea6-02bf3ad7eece",
   "metadata": {},
   "source": [
    "# Ans: 5 "
   ]
  },
  {
   "cell_type": "code",
   "execution_count": 11,
   "id": "2b6011c4-c53b-4ed6-be08-f4ca30c9c1a1",
   "metadata": {},
   "outputs": [
    {
     "data": {
      "text/plain": [
       "[6, 60, 90, 120]"
      ]
     },
     "execution_count": 11,
     "metadata": {},
     "output_type": "execute_result"
    }
   ],
   "source": [
    "l4= [2, 3, 6, 9, 27, 60, 90, 120, 55, 46]\n",
    "list(filter(lambda x: x%2==0 and x%3==0, l4))"
   ]
  },
  {
   "cell_type": "code",
   "execution_count": null,
   "id": "0a4e9de6-2ae5-4c68-b20d-5b47ce215cda",
   "metadata": {},
   "outputs": [],
   "source": []
  },
  {
   "cell_type": "markdown",
   "id": "e7ba3a55-c3aa-417d-98a5-6d1c99b0f352",
   "metadata": {},
   "source": [
    "# Q6. Write a python program to find palindromes in the given list of strings using lambda and filter function. ['python', 'php', 'aba', 'radar', 'level']"
   ]
  },
  {
   "cell_type": "markdown",
   "id": "586277b1-3fc6-475e-8f44-9cb9dc2d111b",
   "metadata": {},
   "source": [
    "# Ans: 6 "
   ]
  },
  {
   "cell_type": "code",
   "execution_count": null,
   "id": "79a46f46-8cf6-4b55-ba96-d6380222e13b",
   "metadata": {},
   "outputs": [],
   "source": [
    "l5= ['python', 'php', 'aba', 'radar', 'level']\n",
    "palindromes= list(filter(lambda x: x==x[::-1],l5))\n",
    "print(palindromes)"
   ]
  }
 ],
 "metadata": {
  "kernelspec": {
   "display_name": "Python 3 (ipykernel)",
   "language": "python",
   "name": "python3"
  },
  "language_info": {
   "codemirror_mode": {
    "name": "ipython",
    "version": 3
   },
   "file_extension": ".py",
   "mimetype": "text/x-python",
   "name": "python",
   "nbconvert_exporter": "python",
   "pygments_lexer": "ipython3",
   "version": "3.10.8"
  }
 },
 "nbformat": 4,
 "nbformat_minor": 5
}
